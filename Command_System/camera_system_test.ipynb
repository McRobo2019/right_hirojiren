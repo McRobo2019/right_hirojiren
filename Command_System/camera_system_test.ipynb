{
 "cells": [
  {
   "cell_type": "code",
   "execution_count": null,
   "metadata": {},
   "outputs": [],
   "source": [
    "import cv2"
   ]
  },
  {
   "cell_type": "code",
   "execution_count": null,
   "metadata": {},
   "outputs": [],
   "source": [
    "def main():\n",
    "    # Raspberry Pi3（Webサーバ）のURL\n",
    "    # http://(Raspberry Pi3のIPアドレス)/?action=stream\n",
    "    URL = \"http://192.168.11.100/?action=stream\"\n",
    "    \n",
    "    # VideoCaptureのインスタンスを作成する。\n",
    "    # 引数でカメラを選べれる。\n",
    "    cap = cv2.VideoCapture(URL)\n",
    "\n",
    "    # カメラFPSを30FPSに設定\n",
    "    cap.set(cv2.CAP_PROP_FPS, 30)\n",
    "\n",
    "    # カメラ画像の横幅を1280に設定\n",
    "    cap.set(cv2.CAP_PROP_FRAME_WIDTH, 1280)\n",
    "\n",
    "    # カメラ画像の縦幅を720に設定\n",
    "    cap.set(cv2.CAP_PROP_FRAME_HEIGHT, 720)\n",
    "\n",
    "    # 表示するWindow名を設定\n",
    "    WINDOW_NAME = \"camera\"\n",
    "    cv2.namedWindow(WINDOW_NAME)\n",
    "    \n",
    "    while cap.isOpened():\n",
    "        ret, frame = cap.read()\n",
    "        \n",
    "\n",
    "            \n",
    "        # フレームを表示する\n",
    "        cv2.imshow(WINDOW_NAME, frame)\n",
    "        \n",
    "        key = cv2.waitKey(1)&0xff\n",
    "        \n",
    "        if key == ord('q'):\n",
    "            break\n",
    "        \n",
    "\n",
    "    cap.release()\n",
    "    cv2.destroyAllWindows()\n",
    "  #  del mouseData\n",
    "\n",
    "main()"
   ]
  },
  {
   "cell_type": "code",
   "execution_count": null,
   "metadata": {},
   "outputs": [],
   "source": [
    "print(\"done\")"
   ]
  }
 ],
 "metadata": {
  "kernelspec": {
   "display_name": "Python 3",
   "language": "python",
   "name": "python3"
  },
  "language_info": {
   "codemirror_mode": {
    "name": "ipython",
    "version": 3
   },
   "file_extension": ".py",
   "mimetype": "text/x-python",
   "name": "python",
   "nbconvert_exporter": "python",
   "pygments_lexer": "ipython3",
   "version": "3.6.8"
  }
 },
 "nbformat": 4,
 "nbformat_minor": 2
}
