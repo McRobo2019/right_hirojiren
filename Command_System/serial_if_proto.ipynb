{
 "cells": [
  {
   "cell_type": "code",
   "execution_count": 1,
   "metadata": {},
   "outputs": [],
   "source": [
    "#!/usr/bin/env python\n",
    "# coding: utf-8\n",
    "from functools import reduce\n",
    "import struct\n",
    "import numpy\n",
    "import cv2\n",
    "import datetime\n",
    "\n",
    "from command_def import CommandCode\n",
    "from command_def import ResponseCode\n",
    "from command_def import Color\n",
    "from SerialInterface import SerialInterface\n",
    "\n",
    "port = \"/dev/tty.hirojiren-SerialPortPro\"\n",
    "baud = 115200\n"
   ]
  },
  {
   "cell_type": "code",
   "execution_count": 2,
   "metadata": {},
   "outputs": [],
   "source": [
    "##############################\n",
    "# 要求パケットを解読する関数 #\n",
    "##############################\n",
    "def decodePacket(command, parameter):\n",
    "    # 引数チェック\n",
    "    if command != CommandCode.All and command != CommandCode.Specific: # 未定義のコマンドコード\n",
    "        errmsg = \"unsupported command\"\n",
    "        return None, errmsg\n",
    "\n",
    "    return  None"
   ]
  },
  {
   "cell_type": "code",
   "execution_count": 3,
   "metadata": {},
   "outputs": [],
   "source": [
    "def command_encodePacket(result):\n",
    "    lrescode = ResponseCode.Command\n",
    "    \n",
    "    #data = struct.pack(\"B\", len(result)) # 座標数\n",
    "    data = struct.pack(\"B\", 0) \n",
    "    for item in result:\n",
    "        data += struct.pack(\"B\", item) \n",
    "    return lrescode, struct.pack(\"B\"*len(data), *data)"
   ]
  },
  {
   "cell_type": "code",
   "execution_count": 4,
   "metadata": {},
   "outputs": [
    {
     "name": "stdout",
     "output_type": "stream",
     "text": [
      "SerialInterface> connected\n",
      "(command, parameter) =  (16, b'')\n"
     ]
    }
   ],
   "source": [
    "##############\n",
    "# メイン関数 #\n",
    "##############\n",
    "if __name__ == '__main__':\n",
    "    # bluetooth通信用COMポートを開通する\n",
    "    si = SerialInterface()\n",
    "    si.open(port, baud, None)\n",
    "\n",
    "    # 要求待ち受けのループ\n",
    "    while True:    \n",
    "        try:\n",
    "            # クライアントから要求パケットを受信する（受信するまでブロックすることに注意）\n",
    "            command, parameter = si.read()\n",
    "            print(\"(command, parameter) = \", (command, parameter))\n",
    "            errmsg = decodePacket(command, parameter)\n",
    "\n",
    "            #response, parameter = encodePacket(ResponseCode.Cap_img)\n",
    "            \n",
    "            # 応答パケットを送信する\n",
    "            #si.write(response, parameter)\n",
    "            \n",
    "            if(command == 16):\n",
    "                break\n",
    "\n",
    "            \n",
    "        except KeyboardInterrupt: # キーボード割り込み(Ctrl + C)\n",
    "            # COMポートを閉じる\n",
    "            si.close()"
   ]
  },
  {
   "cell_type": "code",
   "execution_count": 5,
   "metadata": {},
   "outputs": [
    {
     "name": "stdout",
     "output_type": "stream",
     "text": [
      "cap image\n"
     ]
    }
   ],
   "source": [
    "print(\"cap image\")"
   ]
  },
  {
   "cell_type": "code",
   "execution_count": 6,
   "metadata": {},
   "outputs": [
    {
     "name": "stdout",
     "output_type": "stream",
     "text": [
      "47 b'\\x00\\x00\\x01\\x02\\x03\\x04\\x05\\x06\\x07\\x08'\n"
     ]
    }
   ],
   "source": [
    "command_list = [0,1,2,3,4,5,6,7,8]\n",
    "response, parameter =command_encodePacket(command_list)\n",
    "print(response, parameter)\n",
    "command = 0"
   ]
  },
  {
   "cell_type": "code",
   "execution_count": 7,
   "metadata": {},
   "outputs": [
    {
     "name": "stdout",
     "output_type": "stream",
     "text": [
      "done\n"
     ]
    }
   ],
   "source": [
    "    while True: \n",
    "        command, param = si.read()\n",
    "        if(command == 16):\n",
    "            print(\"done\")\n",
    "            si.write(response, parameter)\n",
    "            break\n",
    "        \n",
    "#            command, parameter = si.read()\n",
    "            \n",
    "#            if(command == 16):\n",
    "#                si.close()\n",
    "#                break"
   ]
  }
 ],
 "metadata": {
  "kernelspec": {
   "display_name": "Python 3",
   "language": "python",
   "name": "python3"
  },
  "language_info": {
   "codemirror_mode": {
    "name": "ipython",
    "version": 3
   },
   "file_extension": ".py",
   "mimetype": "text/x-python",
   "name": "python",
   "nbconvert_exporter": "python",
   "pygments_lexer": "ipython3",
   "version": "3.6.8"
  }
 },
 "nbformat": 4,
 "nbformat_minor": 2
}
