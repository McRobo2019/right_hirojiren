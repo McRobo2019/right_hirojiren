{
 "cells": [
  {
   "cell_type": "code",
   "execution_count": 113,
   "metadata": {},
   "outputs": [],
   "source": [
    "import image_processing\n",
    "import matplotlib.pyplot as plt\n",
    "import cv2\n",
    "import numpy as np\n",
    "import datetime"
   ]
  },
  {
   "cell_type": "code",
   "execution_count": 114,
   "metadata": {},
   "outputs": [
    {
     "name": "stdout",
     "output_type": "stream",
     "text": [
      "45\n"
     ]
    }
   ],
   "source": [
    "IMAGE_DIR   = \"image_fukuyama/\"\n",
    "image_list = image_processing.load_image_set(IMAGE_DIR)\n",
    "image = image_list[0]\n",
    "print(len(image_list))\n"
   ]
  },
  {
   "cell_type": "code",
   "execution_count": 1,
   "metadata": {},
   "outputs": [],
   "source": [
    "def gen_training_dat(image, no):\n",
    "    img_psp = image_processing.persipective_image(image)\n",
    "    masked_image = image_processing.masked_image(img_psp)\n",
    "    block_img = []\n",
    "    num_img, block_img = image_processing.triming_image(masked_image)\n",
    "    \n",
    "    for i in range(24):\n",
    "        filename = 'block_image/block_{0:%d%H%M%S}'.format(datetime.datetime.now())\n",
    "        filename = filename + str(no)+str(i)+'.jpg'\n",
    "        dst = cv2.cvtColor(block_img[i],cv2.COLOR_BGR2RGB)\n",
    "        cv2.imwrite(filename, dst)\n",
    "        \n",
    "        \n",
    "    return 0"
   ]
  },
  {
   "cell_type": "code",
   "execution_count": 116,
   "metadata": {},
   "outputs": [],
   "source": [
    "for i in range(len(image_list)):\n",
    "    gen_training_dat(image_list[i], i)"
   ]
  }
 ],
 "metadata": {
  "kernelspec": {
   "display_name": "Python 3",
   "language": "python",
   "name": "python3"
  },
  "language_info": {
   "codemirror_mode": {
    "name": "ipython",
    "version": 3
   },
   "file_extension": ".py",
   "mimetype": "text/x-python",
   "name": "python",
   "nbconvert_exporter": "python",
   "pygments_lexer": "ipython3",
   "version": "3.6.8"
  }
 },
 "nbformat": 4,
 "nbformat_minor": 2
}
